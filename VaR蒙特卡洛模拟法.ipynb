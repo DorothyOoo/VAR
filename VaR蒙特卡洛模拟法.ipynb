{
 "cells": [
  {
   "cell_type": "code",
   "execution_count": 3,
   "id": "49d158da-a5eb-46f0-ad12-99c945ba60e4",
   "metadata": {
    "editable": true,
    "slideshow": {
     "slide_type": ""
    },
    "tags": []
   },
   "outputs": [],
   "source": [
    "import numpy as np\n",
    "import pandas as pd\n",
    "import datetime as dt\n",
    "import yfinance as yf\n",
    "import matplotlib.pylab as plt\n",
    "from scipy.stats import norm\n",
    "import math\n",
    "import seaborn as sns"
   ]
  },
  {
   "cell_type": "code",
   "execution_count": 9,
   "id": "66f93081-1fcc-4b64-a3cd-cbf15adc0a32",
   "metadata": {
    "editable": true,
    "slideshow": {
     "slide_type": ""
    },
    "tags": []
   },
   "outputs": [],
   "source": [
    "years = 3\n",
    "endDate = dt.datetime.now()\n",
    "startDate = endDate - dt.timedelta(days=365*years)"
   ]
  },
  {
   "cell_type": "code",
   "execution_count": 11,
   "id": "0bcbc8d7-3b52-434b-815c-962a248065f7",
   "metadata": {},
   "outputs": [],
   "source": [
    "# SPY: SPDR S&P 500 ETF Trust\n",
    "# LQD: iShares iBoxx $ Investment Grade Corporate Bond ETF\n",
    "# GLD: SPDR Gold Trust\n",
    "# DBC: Invesco DB Commodity Index Tracking Fund\n",
    "# FXE: Invesco CurrencyShares Euro Trust"
   ]
  },
  {
   "cell_type": "code",
   "execution_count": 13,
   "id": "7df940a7-5501-4e3f-aedb-697dbe17528b",
   "metadata": {},
   "outputs": [],
   "source": [
    "tickers = ['SPY','LQD','GLD','DBC','FXE']"
   ]
  },
  {
   "cell_type": "code",
   "execution_count": 17,
   "id": "903e0e82-374f-4acd-a361-59d2fbb96760",
   "metadata": {},
   "outputs": [
    {
     "name": "stderr",
     "output_type": "stream",
     "text": [
      "[*********************100%***********************]  1 of 1 completed\n",
      "[*********************100%***********************]  1 of 1 completed\n",
      "[*********************100%***********************]  1 of 1 completed\n",
      "[*********************100%***********************]  1 of 1 completed\n",
      "[*********************100%***********************]  1 of 1 completed\n"
     ]
    }
   ],
   "source": [
    "closePrices_df = pd.DataFrame()\n",
    "\n",
    "for ticker in tickers:\n",
    "    data = yf.download(ticker,start=startDate,end=endDate)\n",
    "    closePrices_df[ticker] = data['Close']"
   ]
  },
  {
   "cell_type": "code",
   "execution_count": 25,
   "id": "0de29139-b2fe-4750-be66-1d2dc959fe46",
   "metadata": {
    "editable": true,
    "slideshow": {
     "slide_type": ""
    },
    "tags": []
   },
   "outputs": [],
   "source": [
    "logReturn = np.log(closePrices_df/closePrices_df.shift(1))\n",
    "logReturn = logReturn.dropna()"
   ]
  },
  {
   "cell_type": "code",
   "execution_count": 27,
   "id": "adb7629a-020c-4044-9a6e-b57b35fb4ec1",
   "metadata": {},
   "outputs": [],
   "source": [
    "portfolio_cov = logReturn.cov()"
   ]
  },
  {
   "cell_type": "code",
   "execution_count": 29,
   "id": "0ba8f44b-5f1f-4d72-9077-d633fd9d0f76",
   "metadata": {},
   "outputs": [
    {
     "data": {
      "text/html": [
       "<div>\n",
       "<style scoped>\n",
       "    .dataframe tbody tr th:only-of-type {\n",
       "        vertical-align: middle;\n",
       "    }\n",
       "\n",
       "    .dataframe tbody tr th {\n",
       "        vertical-align: top;\n",
       "    }\n",
       "\n",
       "    .dataframe thead th {\n",
       "        text-align: right;\n",
       "    }\n",
       "</style>\n",
       "<table border=\"1\" class=\"dataframe\">\n",
       "  <thead>\n",
       "    <tr style=\"text-align: right;\">\n",
       "      <th></th>\n",
       "      <th>SPY</th>\n",
       "      <th>LQD</th>\n",
       "      <th>GLD</th>\n",
       "      <th>DBC</th>\n",
       "      <th>FXE</th>\n",
       "    </tr>\n",
       "  </thead>\n",
       "  <tbody>\n",
       "    <tr>\n",
       "      <th>SPY</th>\n",
       "      <td>0.000121</td>\n",
       "      <td>0.000028</td>\n",
       "      <td>0.000016</td>\n",
       "      <td>0.000023</td>\n",
       "      <td>0.000022</td>\n",
       "    </tr>\n",
       "    <tr>\n",
       "      <th>LQD</th>\n",
       "      <td>0.000028</td>\n",
       "      <td>0.000039</td>\n",
       "      <td>0.000022</td>\n",
       "      <td>0.000003</td>\n",
       "      <td>0.000013</td>\n",
       "    </tr>\n",
       "    <tr>\n",
       "      <th>GLD</th>\n",
       "      <td>0.000016</td>\n",
       "      <td>0.000022</td>\n",
       "      <td>0.000084</td>\n",
       "      <td>0.000045</td>\n",
       "      <td>0.000019</td>\n",
       "    </tr>\n",
       "    <tr>\n",
       "      <th>DBC</th>\n",
       "      <td>0.000023</td>\n",
       "      <td>0.000003</td>\n",
       "      <td>0.000045</td>\n",
       "      <td>0.000153</td>\n",
       "      <td>0.000010</td>\n",
       "    </tr>\n",
       "    <tr>\n",
       "      <th>FXE</th>\n",
       "      <td>0.000022</td>\n",
       "      <td>0.000013</td>\n",
       "      <td>0.000019</td>\n",
       "      <td>0.000010</td>\n",
       "      <td>0.000026</td>\n",
       "    </tr>\n",
       "  </tbody>\n",
       "</table>\n",
       "</div>"
      ],
      "text/plain": [
       "          SPY       LQD       GLD       DBC       FXE\n",
       "SPY  0.000121  0.000028  0.000016  0.000023  0.000022\n",
       "LQD  0.000028  0.000039  0.000022  0.000003  0.000013\n",
       "GLD  0.000016  0.000022  0.000084  0.000045  0.000019\n",
       "DBC  0.000023  0.000003  0.000045  0.000153  0.000010\n",
       "FXE  0.000022  0.000013  0.000019  0.000010  0.000026"
      ]
     },
     "execution_count": 29,
     "metadata": {},
     "output_type": "execute_result"
    }
   ],
   "source": [
    "portfolio_cov"
   ]
  },
  {
   "cell_type": "code",
   "execution_count": 31,
   "id": "8e373eb9-0338-44c3-b482-ed88d68082ac",
   "metadata": {},
   "outputs": [],
   "source": [
    "def portfolio_expected_return(weights,logReturn):\n",
    "    return np.sum(weights * logReturn.mean())"
   ]
  },
  {
   "cell_type": "code",
   "execution_count": 35,
   "id": "ea769cce-4d32-450f-9ca2-b32a7f7c73e8",
   "metadata": {},
   "outputs": [],
   "source": [
    "def portfolio_standard_deviation(weights,port_cov):\n",
    "    port_variance = weights.T @ port_cov @ weights\n",
    "    return np.sqrt(port_variance)\n",
    "#创建计算组合标准差的公式"
   ]
  },
  {
   "cell_type": "code",
   "execution_count": 45,
   "id": "d7213591-6d75-4c90-81e9-bc1a0c40fb40",
   "metadata": {},
   "outputs": [],
   "source": [
    "portfolio = 1000000\n",
    "ticker_weight = 1/len(tickers)\n",
    "port_weights = pd.Series({ticker:ticker_weight for ticker in tickers})"
   ]
  },
  {
   "cell_type": "code",
   "execution_count": 69,
   "id": "5df3f2e9-351d-40a1-bf92-aab47b7aa2a9",
   "metadata": {},
   "outputs": [],
   "source": [
    "portExpReturn = portfolio_expected_return(port_weights, logReturn)\n",
    "portStv = portfolio_standard_deviation(port_weights,portfolio_cov)"
   ]
  },
  {
   "cell_type": "code",
   "execution_count": 71,
   "id": "cdfc9c9e-c1e0-44b3-a9cc-f0de388ca118",
   "metadata": {},
   "outputs": [],
   "source": [
    "def z_core_rand():\n",
    "    return np.random.normal(0,1)"
   ]
  },
  {
   "cell_type": "code",
   "execution_count": 124,
   "id": "958e5f2b-1857-408d-87ec-84671c709e9a",
   "metadata": {},
   "outputs": [],
   "source": [
    "def portfolio_PL(portSize, portExpReturn, portStv, days):\n",
    "        days = 5\n",
    "        portfolioValue = portSize\n",
    "        for day in range(days):\n",
    "            z_score = z_core_rand()\n",
    "        portfolioValue = portfolioValue * np.exp(portExpReturn + z_score * portStv)\n",
    "        return portfolioValue - portSize"
   ]
  },
  {
   "cell_type": "code",
   "execution_count": 130,
   "id": "1cc17d0c-4228-4d0b-afff-04dec83a7883",
   "metadata": {},
   "outputs": [],
   "source": [
    "simulationTimes = 100000\n",
    "simulationResult = []\n",
    "for i in range(simulationTimes):\n",
    "    pl = portfolio_PL(portfolio,\n",
    "                     portExpReturn,\n",
    "                     portStv,\n",
    "                     days)\n",
    "    simulationResult.append(pl)"
   ]
  },
  {
   "cell_type": "code",
   "execution_count": 135,
   "id": "abb6960e-566b-4548-be11-86ecdbd2888b",
   "metadata": {
    "editable": true,
    "slideshow": {
     "slide_type": ""
    },
    "tags": []
   },
   "outputs": [],
   "source": [
    "confidence_interval = 0.95\n",
    "VaR = np.percentile(simulationResult,100 - confidence_interval*100)"
   ]
  },
  {
   "cell_type": "code",
   "execution_count": 137,
   "id": "eebbefc5-7878-4bac-b312-cb495d4e987d",
   "metadata": {},
   "outputs": [
    {
     "name": "stdout",
     "output_type": "stream",
     "text": [
      "-9192.155706025933\n"
     ]
    }
   ],
   "source": [
    "print(VaR) "
   ]
  },
  {
   "cell_type": "code",
   "execution_count": 140,
   "id": "76204efa-f3a6-4919-8f82-1eb3f8b7880f",
   "metadata": {
    "editable": true,
    "slideshow": {
     "slide_type": ""
    },
    "tags": []
   },
   "outputs": [
    {
     "data": {
      "text/plain": [
       "<function matplotlib.pyplot.show(close=None, block=None)>"
      ]
     },
     "execution_count": 140,
     "metadata": {},
     "output_type": "execute_result"
    },
    {
     "name": "stderr",
     "output_type": "stream",
     "text": [
      "findfont: Generic family 'sans-serif' not found because none of the following families were found: SimSun\n",
      "findfont: Generic family 'sans-serif' not found because none of the following families were found: SimSun\n",
      "findfont: Generic family 'sans-serif' not found because none of the following families were found: SimSun\n",
      "findfont: Generic family 'sans-serif' not found because none of the following families were found: SimSun\n",
      "findfont: Generic family 'sans-serif' not found because none of the following families were found: SimSun\n",
      "findfont: Generic family 'sans-serif' not found because none of the following families were found: SimSun\n",
      "findfont: Generic family 'sans-serif' not found because none of the following families were found: SimSun\n",
      "findfont: Generic family 'sans-serif' not found because none of the following families were found: SimSun\n",
      "findfont: Generic family 'sans-serif' not found because none of the following families were found: SimSun\n",
      "findfont: Generic family 'sans-serif' not found because none of the following families were found: SimSun\n",
      "findfont: Generic family 'sans-serif' not found because none of the following families were found: SimSun\n",
      "findfont: Generic family 'sans-serif' not found because none of the following families were found: SimSun\n",
      "findfont: Generic family 'sans-serif' not found because none of the following families were found: SimSun\n",
      "findfont: Generic family 'sans-serif' not found because none of the following families were found: SimSun\n",
      "findfont: Generic family 'sans-serif' not found because none of the following families were found: SimSun\n",
      "findfont: Generic family 'sans-serif' not found because none of the following families were found: SimSun\n",
      "findfont: Generic family 'sans-serif' not found because none of the following families were found: SimSun\n",
      "findfont: Generic family 'sans-serif' not found because none of the following families were found: SimSun\n",
      "findfont: Generic family 'sans-serif' not found because none of the following families were found: SimSun\n",
      "findfont: Generic family 'sans-serif' not found because none of the following families were found: SimSun\n",
      "findfont: Generic family 'sans-serif' not found because none of the following families were found: SimSun\n",
      "findfont: Generic family 'sans-serif' not found because none of the following families were found: SimSun\n",
      "findfont: Generic family 'sans-serif' not found because none of the following families were found: SimSun\n",
      "findfont: Generic family 'sans-serif' not found because none of the following families were found: SimSun\n",
      "findfont: Generic family 'sans-serif' not found because none of the following families were found: SimSun\n",
      "findfont: Generic family 'sans-serif' not found because none of the following families were found: SimSun\n",
      "findfont: Generic family 'sans-serif' not found because none of the following families were found: SimSun\n",
      "findfont: Generic family 'sans-serif' not found because none of the following families were found: SimSun\n",
      "findfont: Generic family 'sans-serif' not found because none of the following families were found: SimSun\n",
      "findfont: Generic family 'sans-serif' not found because none of the following families were found: SimSun\n",
      "findfont: Generic family 'sans-serif' not found because none of the following families were found: SimSun\n",
      "findfont: Generic family 'sans-serif' not found because none of the following families were found: SimSun\n",
      "findfont: Generic family 'sans-serif' not found because none of the following families were found: SimSun\n",
      "findfont: Generic family 'sans-serif' not found because none of the following families were found: SimSun\n",
      "findfont: Generic family 'sans-serif' not found because none of the following families were found: SimSun\n",
      "findfont: Generic family 'sans-serif' not found because none of the following families were found: SimSun\n",
      "findfont: Generic family 'sans-serif' not found because none of the following families were found: SimSun\n",
      "findfont: Generic family 'sans-serif' not found because none of the following families were found: SimSun\n",
      "findfont: Generic family 'sans-serif' not found because none of the following families were found: SimSun\n",
      "findfont: Generic family 'sans-serif' not found because none of the following families were found: SimSun\n",
      "findfont: Generic family 'sans-serif' not found because none of the following families were found: SimSun\n",
      "findfont: Generic family 'sans-serif' not found because none of the following families were found: SimSun\n",
      "findfont: Generic family 'sans-serif' not found because none of the following families were found: SimSun\n",
      "findfont: Generic family 'sans-serif' not found because none of the following families were found: SimSun\n",
      "findfont: Generic family 'sans-serif' not found because none of the following families were found: SimSun\n",
      "findfont: Generic family 'sans-serif' not found because none of the following families were found: SimSun\n",
      "findfont: Generic family 'sans-serif' not found because none of the following families were found: SimSun\n",
      "findfont: Generic family 'sans-serif' not found because none of the following families were found: SimSun\n",
      "findfont: Generic family 'sans-serif' not found because none of the following families were found: SimSun\n",
      "findfont: Generic family 'sans-serif' not found because none of the following families were found: SimSun\n",
      "findfont: Generic family 'sans-serif' not found because none of the following families were found: SimSun\n",
      "findfont: Generic family 'sans-serif' not found because none of the following families were found: SimSun\n",
      "findfont: Generic family 'sans-serif' not found because none of the following families were found: SimSun\n",
      "findfont: Generic family 'sans-serif' not found because none of the following families were found: SimSun\n"
     ]
    },
    {
     "data": {
      "image/png": "[encoded data removed]",
      "text/plain": [
       "<Figure size 640x480 with 1 Axes>"
      ]
     },
     "metadata": {},
     "output_type": "display_data"
    }
   ],
   "source": [
    "sns.histplot(simulationResult,kde=True, color='blue')\n",
    "plt.xlabel(f'{days} - portfolio profit and los')\n",
    "plt.ylabel('frequency/occurrence')\n",
    "plt.title(f'portfolio{days} profit and loss distribution')\n",
    "plt.axvline(VaR,color='r',linestyle='dashed',linewidth=2,label=f'在{confidence_interval:.0%}confidence_interval')\n",
    "plt.legend\n",
    "plt.rcParams['font.sans-serif'] = ['SimSun']\n",
    "plt.rcParams['axes.unicode_minus']=False\n",
    "plt.show"
   ]
  },
  {
   "cell_type": "code",
   "execution_count": null,
   "id": "10e055b2-6341-4ec0-97f3-804e90f9507e",
   "metadata": {},
   "outputs": [],
   "source": []
  }
 ],
 "metadata": {
  "kernelspec": {
   "display_name": "Python [conda env:base] *",
   "language": "python",
   "name": "conda-base-py"
  },
  "language_info": {
   "codemirror_mode": {
    "name": "ipython",
    "version": 3
   },
   "file_extension": ".py",
   "mimetype": "text/x-python",
   "name": "python",
   "nbconvert_exporter": "python",
   "pygments_lexer": "ipython3",
   "version": "3.12.7"
  }
 },
 "nbformat": 4,
 "nbformat_minor": 5
}
