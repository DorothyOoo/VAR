{
 "cells": [
  {
   "cell_type": "code",
   "execution_count": 1,
   "id": "679027cb-52dc-47ed-b8c6-4d85121910ce",
   "metadata": {
    "editable": true,
    "slideshow": {
     "slide_type": ""
    },
    "tags": []
   },
   "outputs": [],
   "source": [
    "import numpy as np\n",
    "import pandas as pd\n",
    "import datetime as dt\n",
    "import yfinance as yf\n",
    "import matplotlib.pylab as plt\n",
    "from scipy.stats import norm\n",
    "import math\n",
    "import seaborn as sns"
   ]
  },
  {
   "cell_type": "code",
   "execution_count": 9,
   "id": "1beaaa3d-d2d9-41e2-ae99-ac2015eca429",
   "metadata": {
    "editable": true,
    "slideshow": {
     "slide_type": ""
    },
    "tags": []
   },
   "outputs": [],
   "source": [
    "years = 2\n",
    "endDate = dt.datetime.now()\n",
    "startDate = endDate - dt.timedelta(days=365*years)\n",
    "tickers =['000300.SS','CYBU.AS']"
   ]
  },
  {
   "cell_type": "code",
   "execution_count": 24,
   "id": "d232ce8f-b52c-4f2d-893e-0f28ebe8a86b",
   "metadata": {
    "editable": true,
    "slideshow": {
     "slide_type": ""
    },
    "tags": []
   },
   "outputs": [],
   "source": [
    "closePrices_df = pd.DataFrame()"
   ]
  },
  {
   "cell_type": "code",
   "execution_count": 28,
   "id": "436d04ab-1c1a-4cec-8b9e-15197d76cfcb",
   "metadata": {},
   "outputs": [
    {
     "name": "stderr",
     "output_type": "stream",
     "text": [
      "[*********************100%***********************]  1 of 1 completed\n",
      "[*********************100%***********************]  1 of 1 completed\n"
     ]
    }
   ],
   "source": [
    "for ticker in tickers:\n",
    "    data = yf.download(ticker,start=startDate,end=endDate)\n",
    "    closePrice[ticker]=data['Close']"
   ]
  },
  {
   "cell_type": "code",
   "execution_count": 32,
   "id": "c008125c-8bcc-40c1-af2e-9ab37c622e55",
   "metadata": {
    "editable": true,
    "slideshow": {
     "slide_type": ""
    },
    "tags": []
   },
   "outputs": [],
   "source": [
    "logReturn = np.log(closePrice/closePrice.shift(1))"
   ]
  },
  {
   "cell_type": "code",
   "execution_count": 53,
   "id": "c570d363-9c3a-47c3-bdeb-f5f6d1ad868f",
   "metadata": {
    "editable": true,
    "slideshow": {
     "slide_type": ""
    },
    "tags": []
   },
   "outputs": [],
   "source": [
    "logReturn = logReturn.dropna()"
   ]
  },
  {
   "cell_type": "code",
   "execution_count": 57,
   "id": "ce3b2062-c2d0-4b08-a4ce-147afd925c89",
   "metadata": {},
   "outputs": [],
   "source": [
    "portfolio = 1000000\n",
    "weights = {'000300.SS':0.60,\n",
    "           'CYBU.AS':0.40\n",
    "          }"
   ]
  },
  {
   "cell_type": "code",
   "execution_count": 63,
   "id": "d28dd425-3f33-48c5-95da-8f31da57f776",
   "metadata": {},
   "outputs": [],
   "source": [
    "logReturn2 = logReturn.mul(pd.Series(weights),axis = 1)"
   ]
  },
  {
   "cell_type": "code",
   "execution_count": 67,
   "id": "c25133ea-c9bf-4dd7-9f3f-e92d8fc58196",
   "metadata": {},
   "outputs": [],
   "source": [
    "PortfoliologReturn = logReturn2.sum(axis = 1)"
   ]
  },
  {
   "cell_type": "code",
   "execution_count": 69,
   "id": "8965e3cd-0ad4-425e-ba5e-a47a2ea44e4e",
   "metadata": {},
   "outputs": [],
   "source": [
    "days = 10"
   ]
  },
  {
   "cell_type": "code",
   "execution_count": 71,
   "id": "8e8e43f8-aa6c-44e5-b0d6-b7c291b40ea1",
   "metadata": {},
   "outputs": [],
   "source": [
    "PortfoliologReturnRolling = PortfoliologReturn.rolling(window=days).sum()"
   ]
  },
  {
   "cell_type": "code",
   "execution_count": 103,
   "id": "b052d39e-cbd7-468f-9b13-7f99dfc788ae",
   "metadata": {},
   "outputs": [],
   "source": [
    "PortfoliologReturnRolling = PortfoliologReturnRolling()\n",
    "PortfoliologReturnRolling = PortfoliologReturnRolling.dropna()"
   ]
  },
  {
   "cell_type": "code",
   "execution_count": 139,
   "id": "256a9be0-eae5-4f18-8141-da38e042e81b",
   "metadata": {},
   "outputs": [],
   "source": [
    "confidence_interval = 0.95"
   ]
  },
  {
   "cell_type": "code",
   "execution_count": 141,
   "id": "c285205f-1797-4805-a3a0-ed3cf8df7be3",
   "metadata": {
    "editable": true,
    "slideshow": {
     "slide_type": ""
    },
    "tags": []
   },
   "outputs": [],
   "source": [
    "VaR = portfolio * (math.exp(np.percentile(PortfoliologReturnRolling,100 - confidence_interval*100))-1)"
   ]
  },
  {
   "cell_type": "code",
   "execution_count": 143,
   "id": "cb702d66-022d-428e-bfce-69f8eb97a037",
   "metadata": {},
   "outputs": [
    {
     "data": {
      "text/plain": [
       "-25234.194426331345"
      ]
     },
     "execution_count": 143,
     "metadata": {},
     "output_type": "execute_result"
    }
   ],
   "source": [
    "VaR"
   ]
  },
  {
   "cell_type": "code",
   "execution_count": 145,
   "id": "7913132e-1d20-49bd-b5a6-038afc2fce1a",
   "metadata": {},
   "outputs": [],
   "source": [
    "return_windows = days\n",
    "historyReturnRolling = PortfoliologReturn.rolling(window=days).sum()\n",
    "historyReturnRolling = historyReturnRolling.dropna()\n",
    "PortfolioReturn = portfolio * (np.exp(historyReturnRolling)-1)"
   ]
  },
  {
   "cell_type": "code",
   "execution_count": 147,
   "id": "47c63d5e-d09a-45e7-aca6-a0199c3967e6",
   "metadata": {},
   "outputs": [
    {
     "data": {
      "text/plain": [
       "Date\n",
       "2023-02-13    -8012.490889\n",
       "2023-02-14    -1423.201328\n",
       "2023-02-15    -8873.047526\n",
       "2023-02-16   -13453.513151\n",
       "2023-02-17   -14588.635347\n",
       "                  ...     \n",
       "2025-01-15   -20130.800442\n",
       "2025-01-16    -2257.146464\n",
       "2025-01-17     5210.291640\n",
       "2025-01-20     8943.570159\n",
       "2025-01-21     5750.991023\n",
       "Length: 462, dtype: float64"
      ]
     },
     "execution_count": 147,
     "metadata": {},
     "output_type": "execute_result"
    }
   ],
   "source": [
    "PortfolioReturn"
   ]
  },
  {
   "cell_type": "code",
   "execution_count": 149,
   "id": "ee9e3f61-ac24-45ce-aca4-809e4e516803",
   "metadata": {},
   "outputs": [
    {
     "data": {
      "text/plain": [
       "<function matplotlib.pyplot.show(close=None, block=None)>"
      ]
     },
     "execution_count": 149,
     "metadata": {},
     "output_type": "execute_result"
    },
    {
     "name": "stderr",
     "output_type": "stream",
     "text": [
      "findfont: Generic family 'sans-serif' not found because none of the following families were found: SimSun\n",
      "findfont: Generic family 'sans-serif' not found because none of the following families were found: SimSun\n",
      "findfont: Generic family 'sans-serif' not found because none of the following families were found: SimSun\n",
      "findfont: Generic family 'sans-serif' not found because none of the following families were found: SimSun\n",
      "findfont: Generic family 'sans-serif' not found because none of the following families were found: SimSun\n",
      "findfont: Generic family 'sans-serif' not found because none of the following families were found: SimSun\n",
      "findfont: Generic family 'sans-serif' not found because none of the following families were found: SimSun\n",
      "findfont: Generic family 'sans-serif' not found because none of the following families were found: SimSun\n",
      "findfont: Generic family 'sans-serif' not found because none of the following families were found: SimSun\n",
      "findfont: Generic family 'sans-serif' not found because none of the following families were found: SimSun\n",
      "findfont: Generic family 'sans-serif' not found because none of the following families were found: SimSun\n",
      "findfont: Generic family 'sans-serif' not found because none of the following families were found: SimSun\n",
      "findfont: Generic family 'sans-serif' not found because none of the following families were found: SimSun\n",
      "findfont: Generic family 'sans-serif' not found because none of the following families were found: SimSun\n",
      "findfont: Generic family 'sans-serif' not found because none of the following families were found: SimSun\n",
      "findfont: Generic family 'sans-serif' not found because none of the following families were found: SimSun\n",
      "findfont: Generic family 'sans-serif' not found because none of the following families were found: SimSun\n",
      "findfont: Generic family 'sans-serif' not found because none of the following families were found: SimSun\n",
      "findfont: Generic family 'sans-serif' not found because none of the following families were found: SimSun\n",
      "findfont: Generic family 'sans-serif' not found because none of the following families were found: SimSun\n",
      "findfont: Generic family 'sans-serif' not found because none of the following families were found: SimSun\n",
      "findfont: Generic family 'sans-serif' not found because none of the following families were found: SimSun\n",
      "findfont: Generic family 'sans-serif' not found because none of the following families were found: SimSun\n",
      "findfont: Generic family 'sans-serif' not found because none of the following families were found: SimSun\n",
      "findfont: Generic family 'sans-serif' not found because none of the following families were found: SimSun\n",
      "findfont: Generic family 'sans-serif' not found because none of the following families were found: SimSun\n",
      "findfont: Generic family 'sans-serif' not found because none of the following families were found: SimSun\n",
      "findfont: Generic family 'sans-serif' not found because none of the following families were found: SimSun\n",
      "findfont: Generic family 'sans-serif' not found because none of the following families were found: SimSun\n",
      "findfont: Generic family 'sans-serif' not found because none of the following families were found: SimSun\n",
      "findfont: Generic family 'sans-serif' not found because none of the following families were found: SimSun\n",
      "findfont: Generic family 'sans-serif' not found because none of the following families were found: SimSun\n",
      "findfont: Generic family 'sans-serif' not found because none of the following families were found: SimSun\n",
      "findfont: Generic family 'sans-serif' not found because none of the following families were found: SimSun\n",
      "findfont: Generic family 'sans-serif' not found because none of the following families were found: SimSun\n",
      "findfont: Generic family 'sans-serif' not found because none of the following families were found: SimSun\n",
      "findfont: Generic family 'sans-serif' not found because none of the following families were found: SimSun\n",
      "findfont: Generic family 'sans-serif' not found because none of the following families were found: SimSun\n",
      "findfont: Generic family 'sans-serif' not found because none of the following families were found: SimSun\n",
      "findfont: Generic family 'sans-serif' not found because none of the following families were found: SimSun\n",
      "findfont: Generic family 'sans-serif' not found because none of the following families were found: SimSun\n",
      "findfont: Generic family 'sans-serif' not found because none of the following families were found: SimSun\n",
      "findfont: Generic family 'sans-serif' not found because none of the following families were found: SimSun\n",
      "findfont: Generic family 'sans-serif' not found because none of the following families were found: SimSun\n",
      "findfont: Generic family 'sans-serif' not found because none of the following families were found: SimSun\n",
      "findfont: Generic family 'sans-serif' not found because none of the following families were found: SimSun\n",
      "findfont: Generic family 'sans-serif' not found because none of the following families were found: SimSun\n",
      "findfont: Generic family 'sans-serif' not found because none of the following families were found: SimSun\n",
      "findfont: Generic family 'sans-serif' not found because none of the following families were found: SimSun\n",
      "findfont: Generic family 'sans-serif' not found because none of the following families were found: SimSun\n",
      "findfont: Generic family 'sans-serif' not found because none of the following families were found: SimSun\n",
      "findfont: Generic family 'sans-serif' not found because none of the following families were found: SimSun\n",
      "findfont: Generic family 'sans-serif' not found because none of the following families were found: SimSun\n",
      "findfont: Generic family 'sans-serif' not found because none of the following families were found: SimSun\n",
      "findfont: Generic family 'sans-serif' not found because none of the following families were found: SimSun\n",
      "findfont: Generic family 'sans-serif' not found because none of the following families were found: SimSun\n",
      "findfont: Generic family 'sans-serif' not found because none of the following families were found: SimSun\n",
      "findfont: Generic family 'sans-serif' not found because none of the following families were found: SimSun\n",
      "findfont: Generic family 'sans-serif' not found because none of the following families were found: SimSun\n",
      "findfont: Generic family 'sans-serif' not found because none of the following families were found: SimSun\n",
      "findfont: Generic family 'sans-serif' not found because none of the following families were found: SimSun\n",
      "findfont: Generic family 'sans-serif' not found because none of the following families were found: SimSun\n",
      "findfont: Generic family 'sans-serif' not found because none of the following families were found: SimSun\n",
      "findfont: Generic family 'sans-serif' not found because none of the following families were found: SimSun\n",
      "findfont: Generic family 'sans-serif' not found because none of the following families were found: SimSun\n",
      "findfont: Generic family 'sans-serif' not found because none of the following families were found: SimSun\n",
      "findfont: Generic family 'sans-serif' not found because none of the following families were found: SimSun\n",
      "findfont: Generic family 'sans-serif' not found because none of the following families were found: SimSun\n",
      "findfont: Generic family 'sans-serif' not found because none of the following families were found: SimSun\n",
      "findfont: Generic family 'sans-serif' not found because none of the following families were found: SimSun\n"
     ]
    },
    {
     "data": {
      "image/png": "[encoded data removed]",
      "text/plain": [
       "<Figure size 640x480 with 1 Axes>"
      ]
     },
     "metadata": {},
     "output_type": "display_data"
    }
   ],
   "source": [
    "sns.histplot(PortfolioReturn,kde=True, color='blue')\n",
    "plt.xlabel(f'{return_windows} - days portfolio profit and los')\n",
    "plt.ylabel('frequency/occurrence')\n",
    "plt.title(f'portfolio{return_windows}days profit and loss distribution')\n",
    "plt.axvline(VaR,color='r',linestyle='dashed',linewidth=2,label=f'在{confidence_interval:.0%}confidence_interval')\n",
    "plt.legend\n",
    "plt.rcParams['font.sans-serif'] = ['SimSun']\n",
    "plt.rcParams['axes.unicode_minus']=False\n",
    "plt.show"
   ]
  },
  {
   "cell_type": "code",
   "execution_count": null,
   "id": "7d8d9e5a-8a30-42df-b1e6-817b19612229",
   "metadata": {},
   "outputs": [],
   "source": []
  }
 ],
 "metadata": {
  "kernelspec": {
   "display_name": "Python [conda env:base] *",
   "language": "python",
   "name": "conda-base-py"
  },
  "language_info": {
   "codemirror_mode": {
    "name": "ipython",
    "version": 3
   },
   "file_extension": ".py",
   "mimetype": "text/x-python",
   "name": "python",
   "nbconvert_exporter": "python",
   "pygments_lexer": "ipython3",
   "version": "3.12.7"
  }
 },
 "nbformat": 4,
 "nbformat_minor": 5
}
